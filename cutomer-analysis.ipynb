{
  "nbformat": 4,
  "nbformat_minor": 0,
  "metadata": {
    "colab": {
      "provenance": []
    },
    "kernelspec": {
      "name": "python3",
      "display_name": "Python 3"
    },
    "language_info": {
      "name": "python"
    }
  },
  "cells": [
    {
      "cell_type": "code",
      "execution_count": 1,
      "metadata": {
        "colab": {
          "base_uri": "https://localhost:8080/",
          "height": 791
        },
        "id": "NNpYUVwZxhqK",
        "outputId": "8fe824a2-d6bc-4a12-be18-da78798a40fb"
      },
      "outputs": [
        {
          "output_type": "stream",
          "name": "stdout",
          "text": [
            "Columns present in dataset:  Index(['Customer ID', 'Purchase Date', 'Product Category', 'Product Price',\n",
            "       'Quantity', 'Total Purchase Amount', 'Payment Method', 'Customer Age',\n",
            "       'Returns', 'Customer Name', 'Age', 'Gender', 'Churn'],\n",
            "      dtype='object') \n",
            "\n",
            "Data types of columns Customer ID                int64\n",
            "Purchase Date             object\n",
            "Product Category          object\n",
            "Product Price              int64\n",
            "Quantity                   int64\n",
            "Total Purchase Amount      int64\n",
            "Payment Method            object\n",
            "Customer Age               int64\n",
            "Returns                  float64\n",
            "Customer Name             object\n",
            "Age                        int64\n",
            "Gender                    object\n",
            "Churn                      int64\n",
            "dtype: object \n",
            "\n",
            "Number of rows and columns present (250000, 13)\n"
          ]
        },
        {
          "output_type": "execute_result",
          "data": {
            "text/plain": [
              "   Customer ID        Purchase Date Product Category  Product Price  Quantity  \\\n",
              "0        46251  2020-09-08 09:38:32      Electronics             12         3   \n",
              "1        46251  2022-03-05 12:56:35             Home            468         4   \n",
              "2        46251  2022-05-23 18:18:01             Home            288         2   \n",
              "3        46251  2020-11-12 13:13:29         Clothing            196         1   \n",
              "4        13593  2020-11-27 17:55:11             Home            449         1   \n",
              "\n",
              "   Total Purchase Amount Payment Method  Customer Age  Returns  \\\n",
              "0                    740    Credit Card            37      0.0   \n",
              "1                   2739         PayPal            37      0.0   \n",
              "2                   3196         PayPal            37      0.0   \n",
              "3                   3509         PayPal            37      0.0   \n",
              "4                   3452    Credit Card            49      0.0   \n",
              "\n",
              "         Customer Name  Age  Gender  Churn  \n",
              "0  Christine Hernandez   37    Male      0  \n",
              "1  Christine Hernandez   37    Male      0  \n",
              "2  Christine Hernandez   37    Male      0  \n",
              "3  Christine Hernandez   37    Male      0  \n",
              "4          James Grant   49  Female      1  "
            ],
            "text/html": [
              "\n",
              "  <div id=\"df-5a19f331-24ca-4c2b-b746-dad896322819\" class=\"colab-df-container\">\n",
              "    <div>\n",
              "<style scoped>\n",
              "    .dataframe tbody tr th:only-of-type {\n",
              "        vertical-align: middle;\n",
              "    }\n",
              "\n",
              "    .dataframe tbody tr th {\n",
              "        vertical-align: top;\n",
              "    }\n",
              "\n",
              "    .dataframe thead th {\n",
              "        text-align: right;\n",
              "    }\n",
              "</style>\n",
              "<table border=\"1\" class=\"dataframe\">\n",
              "  <thead>\n",
              "    <tr style=\"text-align: right;\">\n",
              "      <th></th>\n",
              "      <th>Customer ID</th>\n",
              "      <th>Purchase Date</th>\n",
              "      <th>Product Category</th>\n",
              "      <th>Product Price</th>\n",
              "      <th>Quantity</th>\n",
              "      <th>Total Purchase Amount</th>\n",
              "      <th>Payment Method</th>\n",
              "      <th>Customer Age</th>\n",
              "      <th>Returns</th>\n",
              "      <th>Customer Name</th>\n",
              "      <th>Age</th>\n",
              "      <th>Gender</th>\n",
              "      <th>Churn</th>\n",
              "    </tr>\n",
              "  </thead>\n",
              "  <tbody>\n",
              "    <tr>\n",
              "      <th>0</th>\n",
              "      <td>46251</td>\n",
              "      <td>2020-09-08 09:38:32</td>\n",
              "      <td>Electronics</td>\n",
              "      <td>12</td>\n",
              "      <td>3</td>\n",
              "      <td>740</td>\n",
              "      <td>Credit Card</td>\n",
              "      <td>37</td>\n",
              "      <td>0.0</td>\n",
              "      <td>Christine Hernandez</td>\n",
              "      <td>37</td>\n",
              "      <td>Male</td>\n",
              "      <td>0</td>\n",
              "    </tr>\n",
              "    <tr>\n",
              "      <th>1</th>\n",
              "      <td>46251</td>\n",
              "      <td>2022-03-05 12:56:35</td>\n",
              "      <td>Home</td>\n",
              "      <td>468</td>\n",
              "      <td>4</td>\n",
              "      <td>2739</td>\n",
              "      <td>PayPal</td>\n",
              "      <td>37</td>\n",
              "      <td>0.0</td>\n",
              "      <td>Christine Hernandez</td>\n",
              "      <td>37</td>\n",
              "      <td>Male</td>\n",
              "      <td>0</td>\n",
              "    </tr>\n",
              "    <tr>\n",
              "      <th>2</th>\n",
              "      <td>46251</td>\n",
              "      <td>2022-05-23 18:18:01</td>\n",
              "      <td>Home</td>\n",
              "      <td>288</td>\n",
              "      <td>2</td>\n",
              "      <td>3196</td>\n",
              "      <td>PayPal</td>\n",
              "      <td>37</td>\n",
              "      <td>0.0</td>\n",
              "      <td>Christine Hernandez</td>\n",
              "      <td>37</td>\n",
              "      <td>Male</td>\n",
              "      <td>0</td>\n",
              "    </tr>\n",
              "    <tr>\n",
              "      <th>3</th>\n",
              "      <td>46251</td>\n",
              "      <td>2020-11-12 13:13:29</td>\n",
              "      <td>Clothing</td>\n",
              "      <td>196</td>\n",
              "      <td>1</td>\n",
              "      <td>3509</td>\n",
              "      <td>PayPal</td>\n",
              "      <td>37</td>\n",
              "      <td>0.0</td>\n",
              "      <td>Christine Hernandez</td>\n",
              "      <td>37</td>\n",
              "      <td>Male</td>\n",
              "      <td>0</td>\n",
              "    </tr>\n",
              "    <tr>\n",
              "      <th>4</th>\n",
              "      <td>13593</td>\n",
              "      <td>2020-11-27 17:55:11</td>\n",
              "      <td>Home</td>\n",
              "      <td>449</td>\n",
              "      <td>1</td>\n",
              "      <td>3452</td>\n",
              "      <td>Credit Card</td>\n",
              "      <td>49</td>\n",
              "      <td>0.0</td>\n",
              "      <td>James Grant</td>\n",
              "      <td>49</td>\n",
              "      <td>Female</td>\n",
              "      <td>1</td>\n",
              "    </tr>\n",
              "  </tbody>\n",
              "</table>\n",
              "</div>\n",
              "    <div class=\"colab-df-buttons\">\n",
              "\n",
              "  <div class=\"colab-df-container\">\n",
              "    <button class=\"colab-df-convert\" onclick=\"convertToInteractive('df-5a19f331-24ca-4c2b-b746-dad896322819')\"\n",
              "            title=\"Convert this dataframe to an interactive table.\"\n",
              "            style=\"display:none;\">\n",
              "\n",
              "  <svg xmlns=\"http://www.w3.org/2000/svg\" height=\"24px\" viewBox=\"0 -960 960 960\">\n",
              "    <path d=\"M120-120v-720h720v720H120Zm60-500h600v-160H180v160Zm220 220h160v-160H400v160Zm0 220h160v-160H400v160ZM180-400h160v-160H180v160Zm440 0h160v-160H620v160ZM180-180h160v-160H180v160Zm440 0h160v-160H620v160Z\"/>\n",
              "  </svg>\n",
              "    </button>\n",
              "\n",
              "  <style>\n",
              "    .colab-df-container {\n",
              "      display:flex;\n",
              "      gap: 12px;\n",
              "    }\n",
              "\n",
              "    .colab-df-convert {\n",
              "      background-color: #E8F0FE;\n",
              "      border: none;\n",
              "      border-radius: 50%;\n",
              "      cursor: pointer;\n",
              "      display: none;\n",
              "      fill: #1967D2;\n",
              "      height: 32px;\n",
              "      padding: 0 0 0 0;\n",
              "      width: 32px;\n",
              "    }\n",
              "\n",
              "    .colab-df-convert:hover {\n",
              "      background-color: #E2EBFA;\n",
              "      box-shadow: 0px 1px 2px rgba(60, 64, 67, 0.3), 0px 1px 3px 1px rgba(60, 64, 67, 0.15);\n",
              "      fill: #174EA6;\n",
              "    }\n",
              "\n",
              "    .colab-df-buttons div {\n",
              "      margin-bottom: 4px;\n",
              "    }\n",
              "\n",
              "    [theme=dark] .colab-df-convert {\n",
              "      background-color: #3B4455;\n",
              "      fill: #D2E3FC;\n",
              "    }\n",
              "\n",
              "    [theme=dark] .colab-df-convert:hover {\n",
              "      background-color: #434B5C;\n",
              "      box-shadow: 0px 1px 3px 1px rgba(0, 0, 0, 0.15);\n",
              "      filter: drop-shadow(0px 1px 2px rgba(0, 0, 0, 0.3));\n",
              "      fill: #FFFFFF;\n",
              "    }\n",
              "  </style>\n",
              "\n",
              "    <script>\n",
              "      const buttonEl =\n",
              "        document.querySelector('#df-5a19f331-24ca-4c2b-b746-dad896322819 button.colab-df-convert');\n",
              "      buttonEl.style.display =\n",
              "        google.colab.kernel.accessAllowed ? 'block' : 'none';\n",
              "\n",
              "      async function convertToInteractive(key) {\n",
              "        const element = document.querySelector('#df-5a19f331-24ca-4c2b-b746-dad896322819');\n",
              "        const dataTable =\n",
              "          await google.colab.kernel.invokeFunction('convertToInteractive',\n",
              "                                                    [key], {});\n",
              "        if (!dataTable) return;\n",
              "\n",
              "        const docLinkHtml = 'Like what you see? Visit the ' +\n",
              "          '<a target=\"_blank\" href=https://colab.research.google.com/notebooks/data_table.ipynb>data table notebook</a>'\n",
              "          + ' to learn more about interactive tables.';\n",
              "        element.innerHTML = '';\n",
              "        dataTable['output_type'] = 'display_data';\n",
              "        await google.colab.output.renderOutput(dataTable, element);\n",
              "        const docLink = document.createElement('div');\n",
              "        docLink.innerHTML = docLinkHtml;\n",
              "        element.appendChild(docLink);\n",
              "      }\n",
              "    </script>\n",
              "  </div>\n",
              "\n",
              "\n",
              "    <div id=\"df-9d152bf2-5df6-46ca-9ba7-57e689b0a31f\">\n",
              "      <button class=\"colab-df-quickchart\" onclick=\"quickchart('df-9d152bf2-5df6-46ca-9ba7-57e689b0a31f')\"\n",
              "                title=\"Suggest charts\"\n",
              "                style=\"display:none;\">\n",
              "\n",
              "<svg xmlns=\"http://www.w3.org/2000/svg\" height=\"24px\"viewBox=\"0 0 24 24\"\n",
              "     width=\"24px\">\n",
              "    <g>\n",
              "        <path d=\"M19 3H5c-1.1 0-2 .9-2 2v14c0 1.1.9 2 2 2h14c1.1 0 2-.9 2-2V5c0-1.1-.9-2-2-2zM9 17H7v-7h2v7zm4 0h-2V7h2v10zm4 0h-2v-4h2v4z\"/>\n",
              "    </g>\n",
              "</svg>\n",
              "      </button>\n",
              "\n",
              "<style>\n",
              "  .colab-df-quickchart {\n",
              "      --bg-color: #E8F0FE;\n",
              "      --fill-color: #1967D2;\n",
              "      --hover-bg-color: #E2EBFA;\n",
              "      --hover-fill-color: #174EA6;\n",
              "      --disabled-fill-color: #AAA;\n",
              "      --disabled-bg-color: #DDD;\n",
              "  }\n",
              "\n",
              "  [theme=dark] .colab-df-quickchart {\n",
              "      --bg-color: #3B4455;\n",
              "      --fill-color: #D2E3FC;\n",
              "      --hover-bg-color: #434B5C;\n",
              "      --hover-fill-color: #FFFFFF;\n",
              "      --disabled-bg-color: #3B4455;\n",
              "      --disabled-fill-color: #666;\n",
              "  }\n",
              "\n",
              "  .colab-df-quickchart {\n",
              "    background-color: var(--bg-color);\n",
              "    border: none;\n",
              "    border-radius: 50%;\n",
              "    cursor: pointer;\n",
              "    display: none;\n",
              "    fill: var(--fill-color);\n",
              "    height: 32px;\n",
              "    padding: 0;\n",
              "    width: 32px;\n",
              "  }\n",
              "\n",
              "  .colab-df-quickchart:hover {\n",
              "    background-color: var(--hover-bg-color);\n",
              "    box-shadow: 0 1px 2px rgba(60, 64, 67, 0.3), 0 1px 3px 1px rgba(60, 64, 67, 0.15);\n",
              "    fill: var(--button-hover-fill-color);\n",
              "  }\n",
              "\n",
              "  .colab-df-quickchart-complete:disabled,\n",
              "  .colab-df-quickchart-complete:disabled:hover {\n",
              "    background-color: var(--disabled-bg-color);\n",
              "    fill: var(--disabled-fill-color);\n",
              "    box-shadow: none;\n",
              "  }\n",
              "\n",
              "  .colab-df-spinner {\n",
              "    border: 2px solid var(--fill-color);\n",
              "    border-color: transparent;\n",
              "    border-bottom-color: var(--fill-color);\n",
              "    animation:\n",
              "      spin 1s steps(1) infinite;\n",
              "  }\n",
              "\n",
              "  @keyframes spin {\n",
              "    0% {\n",
              "      border-color: transparent;\n",
              "      border-bottom-color: var(--fill-color);\n",
              "      border-left-color: var(--fill-color);\n",
              "    }\n",
              "    20% {\n",
              "      border-color: transparent;\n",
              "      border-left-color: var(--fill-color);\n",
              "      border-top-color: var(--fill-color);\n",
              "    }\n",
              "    30% {\n",
              "      border-color: transparent;\n",
              "      border-left-color: var(--fill-color);\n",
              "      border-top-color: var(--fill-color);\n",
              "      border-right-color: var(--fill-color);\n",
              "    }\n",
              "    40% {\n",
              "      border-color: transparent;\n",
              "      border-right-color: var(--fill-color);\n",
              "      border-top-color: var(--fill-color);\n",
              "    }\n",
              "    60% {\n",
              "      border-color: transparent;\n",
              "      border-right-color: var(--fill-color);\n",
              "    }\n",
              "    80% {\n",
              "      border-color: transparent;\n",
              "      border-right-color: var(--fill-color);\n",
              "      border-bottom-color: var(--fill-color);\n",
              "    }\n",
              "    90% {\n",
              "      border-color: transparent;\n",
              "      border-bottom-color: var(--fill-color);\n",
              "    }\n",
              "  }\n",
              "</style>\n",
              "\n",
              "      <script>\n",
              "        async function quickchart(key) {\n",
              "          const quickchartButtonEl =\n",
              "            document.querySelector('#' + key + ' button');\n",
              "          quickchartButtonEl.disabled = true;  // To prevent multiple clicks.\n",
              "          quickchartButtonEl.classList.add('colab-df-spinner');\n",
              "          try {\n",
              "            const charts = await google.colab.kernel.invokeFunction(\n",
              "                'suggestCharts', [key], {});\n",
              "          } catch (error) {\n",
              "            console.error('Error during call to suggestCharts:', error);\n",
              "          }\n",
              "          quickchartButtonEl.classList.remove('colab-df-spinner');\n",
              "          quickchartButtonEl.classList.add('colab-df-quickchart-complete');\n",
              "        }\n",
              "        (() => {\n",
              "          let quickchartButtonEl =\n",
              "            document.querySelector('#df-9d152bf2-5df6-46ca-9ba7-57e689b0a31f button');\n",
              "          quickchartButtonEl.style.display =\n",
              "            google.colab.kernel.accessAllowed ? 'block' : 'none';\n",
              "        })();\n",
              "      </script>\n",
              "    </div>\n",
              "\n",
              "    </div>\n",
              "  </div>\n"
            ],
            "application/vnd.google.colaboratory.intrinsic+json": {
              "type": "dataframe",
              "variable_name": "df"
            }
          },
          "metadata": {},
          "execution_count": 1
        }
      ],
      "source": [
        "import pandas as pd\n",
        "\n",
        "df = pd.read_csv('/content/ecommerce_customer_data_custom_ratios.csv')\n",
        "\n",
        "print(\"Columns present in dataset: \", df.columns,\"\\n\")\n",
        "\n",
        "print(\"Data types of columns\",df.dtypes,\"\\n\")\n",
        "\n",
        "print(\"Number of rows and columns present\",df.shape)\n",
        "\n",
        "df.head()\n",
        "\n"
      ]
    },
    {
      "cell_type": "code",
      "source": [
        "# Average purchase amount\n",
        "x=df['Total Purchase Amount'].mean()\n",
        "print(x)\n",
        "\n",
        "# Null values if any\n",
        "df.isnull().sum()"
      ],
      "metadata": {
        "colab": {
          "base_uri": "https://localhost:8080/",
          "height": 509
        },
        "id": "HyWQ1sJuPPL4",
        "outputId": "cdd0b2ca-f768-412f-bebe-697f3c7b4537"
      },
      "execution_count": 2,
      "outputs": [
        {
          "output_type": "stream",
          "name": "stdout",
          "text": [
            "2725.370732\n"
          ]
        },
        {
          "output_type": "execute_result",
          "data": {
            "text/plain": [
              "Customer ID                  0\n",
              "Purchase Date                0\n",
              "Product Category             0\n",
              "Product Price                0\n",
              "Quantity                     0\n",
              "Total Purchase Amount        0\n",
              "Payment Method               0\n",
              "Customer Age                 0\n",
              "Returns                  47596\n",
              "Customer Name                0\n",
              "Age                          0\n",
              "Gender                       0\n",
              "Churn                        0\n",
              "dtype: int64"
            ],
            "text/html": [
              "<div>\n",
              "<style scoped>\n",
              "    .dataframe tbody tr th:only-of-type {\n",
              "        vertical-align: middle;\n",
              "    }\n",
              "\n",
              "    .dataframe tbody tr th {\n",
              "        vertical-align: top;\n",
              "    }\n",
              "\n",
              "    .dataframe thead th {\n",
              "        text-align: right;\n",
              "    }\n",
              "</style>\n",
              "<table border=\"1\" class=\"dataframe\">\n",
              "  <thead>\n",
              "    <tr style=\"text-align: right;\">\n",
              "      <th></th>\n",
              "      <th>0</th>\n",
              "    </tr>\n",
              "  </thead>\n",
              "  <tbody>\n",
              "    <tr>\n",
              "      <th>Customer ID</th>\n",
              "      <td>0</td>\n",
              "    </tr>\n",
              "    <tr>\n",
              "      <th>Purchase Date</th>\n",
              "      <td>0</td>\n",
              "    </tr>\n",
              "    <tr>\n",
              "      <th>Product Category</th>\n",
              "      <td>0</td>\n",
              "    </tr>\n",
              "    <tr>\n",
              "      <th>Product Price</th>\n",
              "      <td>0</td>\n",
              "    </tr>\n",
              "    <tr>\n",
              "      <th>Quantity</th>\n",
              "      <td>0</td>\n",
              "    </tr>\n",
              "    <tr>\n",
              "      <th>Total Purchase Amount</th>\n",
              "      <td>0</td>\n",
              "    </tr>\n",
              "    <tr>\n",
              "      <th>Payment Method</th>\n",
              "      <td>0</td>\n",
              "    </tr>\n",
              "    <tr>\n",
              "      <th>Customer Age</th>\n",
              "      <td>0</td>\n",
              "    </tr>\n",
              "    <tr>\n",
              "      <th>Returns</th>\n",
              "      <td>47596</td>\n",
              "    </tr>\n",
              "    <tr>\n",
              "      <th>Customer Name</th>\n",
              "      <td>0</td>\n",
              "    </tr>\n",
              "    <tr>\n",
              "      <th>Age</th>\n",
              "      <td>0</td>\n",
              "    </tr>\n",
              "    <tr>\n",
              "      <th>Gender</th>\n",
              "      <td>0</td>\n",
              "    </tr>\n",
              "    <tr>\n",
              "      <th>Churn</th>\n",
              "      <td>0</td>\n",
              "    </tr>\n",
              "  </tbody>\n",
              "</table>\n",
              "</div><br><label><b>dtype:</b> int64</label>"
            ]
          },
          "metadata": {},
          "execution_count": 2
        }
      ]
    },
    {
      "cell_type": "code",
      "source": [
        "# Customers older than 60\n",
        "z=df[df['Age']>60]\n",
        "print(\"Number of customers whose age is more than 60: \",z.shape[0])\n",
        "\n",
        "# number of customers who purchased electronics\n",
        "c=df[df['Product Category']=='Electronics']['Customer ID'].nunique()\n",
        "print(\"Number of customers who purchased electronic items: \",(c))"
      ],
      "metadata": {
        "id": "guUCQiENQcLc",
        "colab": {
          "base_uri": "https://localhost:8080/"
        },
        "outputId": "a7717ec2-edab-4f62-951a-58db8e52b37b"
      },
      "execution_count": 3,
      "outputs": [
        {
          "output_type": "stream",
          "name": "stdout",
          "text": [
            "Number of customers whose age is more than 60:  47269\n",
            "Number of customers who purchased electronic items:  31767\n"
          ]
        }
      ]
    },
    {
      "cell_type": "markdown",
      "source": [
        "add plot\n"
      ],
      "metadata": {
        "id": "Yp16U7-oPhyt"
      }
    },
    {
      "cell_type": "code",
      "source": [
        "import matplotlib.pyplot as plt\n",
        "# Gender Distribution of customers\n",
        "a = df['Gender'].value_counts()\n",
        "b = df['Gender'].value_counts(normalize=True) * 100\n",
        "gender_distribution = pd.DataFrame({\n",
        "    'Count':a,\n",
        "    'Percentage':b.round(2)\n",
        "})\n",
        "print(gender_distribution.reset_index())\n",
        "\n",
        "# plot\n",
        "ax=gender_distribution['Count'].plot(kind='bar', color=['turquoise', 'salmon'])\n",
        "plt.title('Gender Distribution')\n",
        "plt.xlabel('Gender')\n",
        "plt.ylabel('Count')\n",
        "plt.xticks(rotation=45)\n",
        "\n",
        "for i, val in enumerate(gender_distribution['Count']):\n",
        "    ax.text(i, val + 1, str(val), ha='center')\n",
        "\n",
        "plt.tight_layout()\n",
        "plt.show()\n"
      ],
      "metadata": {
        "colab": {
          "base_uri": "https://localhost:8080/",
          "height": 541
        },
        "id": "agQhD7fbNiWE",
        "outputId": "d455336f-a34c-4094-e1df-f8fd70ff6526"
      },
      "execution_count": 44,
      "outputs": [
        {
          "output_type": "stream",
          "name": "stdout",
          "text": [
            "   Gender   Count  Percentage\n",
            "0  Female  125560       50.22\n",
            "1    Male  124440       49.78\n"
          ]
        },
        {
          "output_type": "display_data",
          "data": {
            "text/plain": [
              "<Figure size 640x480 with 1 Axes>"
            ],
            "image/png": "[encoded data removed]"
          },
          "metadata": {}
        }
      ]
    },
    {
      "cell_type": "code",
      "source": [
        "# Customers likely to churn based on age and gender\n",
        "bins = [-float('inf'), 18, 50, float('inf')]\n",
        "labels = ['<18', '18-50', '>50']\n",
        "\n",
        "# Create a new column 'AgeGroup' by binning 'Age'\n",
        "df['AgeGroup'] = pd.cut(df['Age'], bins=bins, labels=labels)\n",
        "\n",
        "churn_distributions=df.groupby(['AgeGroup','Gender'],observed=False)['Churn'].value_counts().unstack().reset_index()\n",
        "\n",
        "\n",
        "churn_distributions = churn_distributions.rename(columns={0:\"Not Churned\", 1:\"Churned\"})\n",
        "print(churn_distributions)\n",
        "\n",
        "\n"
      ],
      "metadata": {
        "colab": {
          "base_uri": "https://localhost:8080/"
        },
        "id": "b1wDe6LCPrz-",
        "outputId": "81a8eae6-596d-45d1-d387-fe97caac3aca"
      },
      "execution_count": 50,
      "outputs": [
        {
          "output_type": "stream",
          "name": "stdout",
          "text": [
            "Churn AgeGroup  Gender  Not Churned  Churned\n",
            "0          <18  Female         1935      563\n",
            "1          <18    Male         1937      568\n",
            "2        18-50  Female        60853    14999\n",
            "3        18-50    Male        59849    15215\n",
            "4          >50  Female        38132     9078\n",
            "5          >50    Male        37420     9451\n"
          ]
        }
      ]
    },
    {
      "cell_type": "code",
      "source": [
        "# filling null values\n",
        "df['Returns']=df['Returns'].fillna(df['Returns'].mode()[0])\n",
        "\n",
        "y=df[df['Returns']==1]['Customer ID'].nunique()\n",
        "print(\"Number of customers who returned product atleast once: \",(y))\n"
      ],
      "metadata": {
        "colab": {
          "base_uri": "https://localhost:8080/"
        },
        "id": "yv3TjUv95Gwf",
        "outputId": "f981ba35-fb90-4fff-cb4a-5087913acf4b"
      },
      "execution_count": 6,
      "outputs": [
        {
          "output_type": "stream",
          "name": "stdout",
          "text": [
            "Number of customers who returned product atleast once:  43224\n"
          ]
        }
      ]
    },
    {
      "cell_type": "code",
      "source": [
        "# Age distribution of customers who returned products\n",
        "bins=[-float('inf'),18,35,60,float('inf')]\n",
        "labels=['<18','18-35','35-60','>60']\n",
        "\n",
        "df['Age_group2']=pd.cut(df['Age'],bins=bins,labels=labels)\n",
        "\n",
        "returned_df=df[df['Returns']==1]\n",
        "return_distribution = returned_df['Age_group2'].value_counts().sort_index()\n",
        "# to convert it to dataframe\n",
        "return_distribution = return_distribution.to_frame(name='Returned_Count')\n",
        "# to align the column names\n",
        "return_distribution=return_distribution.reset_index()\n",
        "print(return_distribution)\n"
      ],
      "metadata": {
        "colab": {
          "base_uri": "https://localhost:8080/"
        },
        "id": "MSHGbZKFaTFo",
        "outputId": "bda223d1-5518-49bf-a369-112f05cfa9b4"
      },
      "execution_count": 7,
      "outputs": [
        {
          "output_type": "stream",
          "name": "stdout",
          "text": [
            "  Age_group2  Returned_Count\n",
            "0        <18            2015\n",
            "1      18-35           32394\n",
            "2      35-60           47279\n",
            "3        >60           19081\n"
          ]
        }
      ]
    },
    {
      "cell_type": "code",
      "source": [
        "# Most bought product cateogory\n",
        "x=df['Product Category'].value_counts()\n",
        "print(\"Most bought product category: \",x.idxmax())\n",
        "\n",
        "x.plot.pie(autopct='%1.1f%%', startangle=90, cmap='viridis')\n",
        "plt.title(\"Share of Product Categories\")\n",
        "plt.ylabel('')\n",
        "plt.show()\n"
      ],
      "metadata": {
        "colab": {
          "base_uri": "https://localhost:8080/",
          "height": 446
        },
        "id": "267eQ-hVe-fb",
        "outputId": "7da8f6fc-8529-4ef9-e3c1-03575bc8f92b"
      },
      "execution_count": 58,
      "outputs": [
        {
          "output_type": "stream",
          "name": "stdout",
          "text": [
            "Most bought product category:  Clothing\n"
          ]
        },
        {
          "output_type": "display_data",
          "data": {
            "text/plain": [
              "<Figure size 640x480 with 1 Axes>"
            ],
            "image/png": "[encoded data removed]"
          },
          "metadata": {}
        }
      ]
    },
    {
      "cell_type": "code",
      "source": [
        "# average purchase amount per customer\n",
        "avg_purchase = df.groupby(['Customer ID'])['Total Purchase Amount'].mean()\n",
        "avg_purchase = avg_purchase.to_frame('Average purchase amount').reset_index()\n",
        "\n",
        "print(avg_purchase)"
      ],
      "metadata": {
        "colab": {
          "base_uri": "https://localhost:8080/"
        },
        "id": "XYqy5UzqfxVh",
        "outputId": "a7ed3af5-658f-4d13-b079-ab7207f90abf"
      },
      "execution_count": 9,
      "outputs": [
        {
          "output_type": "stream",
          "name": "stdout",
          "text": [
            "       Customer ID  Average purchase amount\n",
            "0                1              3491.000000\n",
            "1                2              2662.666667\n",
            "2                3              2823.375000\n",
            "3                4              2178.750000\n",
            "4                5              1565.500000\n",
            "...            ...                      ...\n",
            "49668        49996              3511.000000\n",
            "49669        49997              2803.875000\n",
            "49670        49998              2152.500000\n",
            "49671        49999              3492.000000\n",
            "49672        50000              2058.000000\n",
            "\n",
            "[49673 rows x 2 columns]\n"
          ]
        }
      ]
    },
    {
      "cell_type": "code",
      "source": [
        "# customer with highest total purchase\n",
        "highest_purchaser = df.groupby(['Customer ID'])['Total Purchase Amount'].sum()\n",
        "\n",
        "top_customer_id=highest_purchaser.idxmax()\n",
        "top_purchase_amt = highest_purchaser.max()\n",
        "print(f\"Customer id: {top_customer_id} with total purchase {top_purchase_amt}\")\n"
      ],
      "metadata": {
        "colab": {
          "base_uri": "https://localhost:8080/"
        },
        "id": "xLNHaMS4kgut",
        "outputId": "306245f3-4ef2-49d4-b128-c80e9f7d2826"
      },
      "execution_count": 10,
      "outputs": [
        {
          "output_type": "stream",
          "name": "stdout",
          "text": [
            "Customer id: 36437 with total purchase 55339\n"
          ]
        }
      ]
    },
    {
      "cell_type": "code",
      "source": [
        "# Distribution of quantities bought per order\n",
        "bins = [0,1,2,3,4,5]\n",
        "labels = ['1','2','3','4','5']\n",
        "df['Quantity_distribution']=pd.cut(df['Quantity'],bins=bins,labels=labels)\n",
        "dist_quantity = df['Quantity_distribution'].value_counts().sort_index()\n",
        "dist_quantity = dist_quantity.to_frame('Number of products').reset_index()\n",
        "print(dist_quantity)\n",
        "\n",
        "# plot\n",
        "plt.bar(dist_quantity['Quantity_distribution'], dist_quantity['Number of products'], color='mediumseagreen')\n",
        "plt.title(\"Quantity Distribution per Order\")\n",
        "plt.xlabel(\"Quantity\")\n",
        "plt.ylabel(\"Number of Orders\")\n",
        "plt.tight_layout()\n",
        "plt.show()\n"
      ],
      "metadata": {
        "colab": {
          "base_uri": "https://localhost:8080/",
          "height": 595
        },
        "id": "cGyj9Y2mm_Ap",
        "outputId": "eeb47889-b38a-42e4-c1a1-147640d32cb2"
      },
      "execution_count": 61,
      "outputs": [
        {
          "output_type": "stream",
          "name": "stdout",
          "text": [
            "  Quantity_distribution  Number of products\n",
            "0                     1               50108\n",
            "1                     2               50021\n",
            "2                     3               49872\n",
            "3                     4               50037\n",
            "4                     5               49962\n"
          ]
        },
        {
          "output_type": "display_data",
          "data": {
            "text/plain": [
              "<Figure size 640x480 with 1 Axes>"
            ],
            "image/png": "[encoded data removed]"
          },
          "metadata": {}
        }
      ]
    },
    {
      "cell_type": "code",
      "source": [
        "# Total revenue generated\n",
        "returns = df[df['Returns']==0]\n",
        "revenue = returns['Total Purchase Amount'].sum()\n",
        "print(f\"Total revenue generated after excluding returned items ${revenue}\")\n",
        "\n",
        "\n",
        "# product category with highest revenue\n",
        "cat = returns.groupby(['Product Category'])['Total Purchase Amount'].sum().idxmax()\n",
        "print(f\"Most revenue generated from {cat} category\")\n"
      ],
      "metadata": {
        "colab": {
          "base_uri": "https://localhost:8080/"
        },
        "id": "UUp4-r8gqExH",
        "outputId": "883ffdc0-a982-417d-c646-312d814388b6"
      },
      "execution_count": 12,
      "outputs": [
        {
          "output_type": "stream",
          "name": "stdout",
          "text": [
            "Total revenue generated after excluding returned items $406676297\n",
            "Most revenue generated from Clothing category\n"
          ]
        }
      ]
    },
    {
      "cell_type": "code",
      "source": [
        "# average revenue per order\n",
        "avg_revenue = df['Total Purchase Amount'].mean()\n",
        "print(\"Average revenue per order is:\",avg_revenue)\n",
        "\n",
        "# payment method used in high value transactions\n",
        "high_transaction = df[df['Total Purchase Amount']>1000]\n",
        "pay_method = high_transaction['Payment Method'].value_counts().idxmax()\n",
        "print(\"Most used payment method for high-value transactions(above $1000): \",pay_method)"
      ],
      "metadata": {
        "colab": {
          "base_uri": "https://localhost:8080/"
        },
        "id": "uUDC4NfarxLB",
        "outputId": "8624895c-fc5e-49b8-c98a-1cc16cffe18f"
      },
      "execution_count": 13,
      "outputs": [
        {
          "output_type": "stream",
          "name": "stdout",
          "text": [
            "Average revenue per order is: 2725.370732\n",
            "Msot used payment method for high-value transactions(above $1000):  Credit Card\n"
          ]
        }
      ]
    },
    {
      "cell_type": "code",
      "source": [
        "# checking for duplicate values\n",
        "\n",
        "duplicate_ids=df[df['Customer ID'].duplicated()]\n",
        "print(\"Duplicate ids: \",len(duplicate_ids))\n",
        "\n",
        "duplicate_names=df[df['Customer Name'].duplicated()]\n",
        "print(\"Duplicate names: \", len(duplicate_names))\n",
        "\n"
      ],
      "metadata": {
        "colab": {
          "base_uri": "https://localhost:8080/"
        },
        "id": "diFFN91C7dOE",
        "outputId": "13a5e449-a281-49d3-fa3c-e588e0866395"
      },
      "execution_count": 14,
      "outputs": [
        {
          "output_type": "stream",
          "name": "stdout",
          "text": [
            "Duplicate ids:  200327\n",
            "Duplicate names:  210080\n"
          ]
        }
      ]
    },
    {
      "cell_type": "code",
      "source": [
        "# change column names\n",
        "df.rename(columns={'Product Price':'Price',\n",
        "                   'Total Purchase Amount':'Total_Amount'},inplace=True)\n",
        "df.columns"
      ],
      "metadata": {
        "colab": {
          "base_uri": "https://localhost:8080/"
        },
        "id": "mcOwXeJhHHXO",
        "outputId": "60e34a23-f68e-4e2e-c79e-fcaffdcef8d0"
      },
      "execution_count": 15,
      "outputs": [
        {
          "output_type": "execute_result",
          "data": {
            "text/plain": [
              "Index(['Customer ID', 'Purchase Date', 'Product Category', 'Price', 'Quantity',\n",
              "       'Total_Amount', 'Payment Method', 'Customer Age', 'Returns',\n",
              "       'Customer Name', 'Age', 'Gender', 'Churn', 'AgeGroup', 'Age_group2',\n",
              "       'Quantity_distribution'],\n",
              "      dtype='object')"
            ]
          },
          "metadata": {},
          "execution_count": 15
        }
      ]
    },
    {
      "cell_type": "code",
      "source": [
        "# percentage of total orders returned\n",
        "total_items = len(df)\n",
        "\n",
        "returned_count = df[df['Returns']==1].shape[0]\n",
        "\n",
        "percentage = (returned_count/total_items) * 100\n",
        "print(f\"Percentage of total orders returned: {percentage:.2f}%\")"
      ],
      "metadata": {
        "id": "8mFAly0oJXaP",
        "colab": {
          "base_uri": "https://localhost:8080/"
        },
        "outputId": "6641cbb7-396a-4b43-9da2-08ed579c9e72"
      },
      "execution_count": 16,
      "outputs": [
        {
          "output_type": "stream",
          "name": "stdout",
          "text": [
            "Percentage of total orders returned: 40.31%\n"
          ]
        }
      ]
    },
    {
      "cell_type": "code",
      "source": [
        "# relationship between churn and customer\n",
        "return_by_customer = df.groupby(['Customer ID'])['Returns'].sum()\n",
        "\n",
        "churn_status = df[['Customer ID','Churn']].drop_duplicates()\n",
        "\n",
        "customer_data = pd.merge(return_by_customer,churn_status,on='Customer ID')\n",
        "print(customer_data.groupby('Churn')['Returns'].mean())"
      ],
      "metadata": {
        "colab": {
          "base_uri": "https://localhost:8080/"
        },
        "id": "xG3vimwUxpM-",
        "outputId": "19f2eb33-845d-4cb0-c405-192987493680"
      },
      "execution_count": 17,
      "outputs": [
        {
          "output_type": "stream",
          "name": "stdout",
          "text": [
            "Churn\n",
            "0    2.028592\n",
            "1    2.028867\n",
            "Name: Returns, dtype: float64\n"
          ]
        }
      ]
    },
    {
      "cell_type": "code",
      "source": [
        "# return rate per product category\n",
        "product_count = df['Product Category'].value_counts()\n",
        "\n",
        "returns = df[df['Returns']==1]\n",
        "return_count = returns['Product Category'].value_counts()\n",
        "\n",
        "return_rate = (return_count/product_count) * 100\n",
        "print(return_rate.to_frame('Return rate').reset_index())"
      ],
      "metadata": {
        "colab": {
          "base_uri": "https://localhost:8080/"
        },
        "id": "wW7bFWs219L9",
        "outputId": "07b2fb4d-285c-4cdb-b9c2-c276162da9c4"
      },
      "execution_count": 18,
      "outputs": [
        {
          "output_type": "stream",
          "name": "stdout",
          "text": [
            "  Product Category  Return rate\n",
            "0            Books    40.352680\n",
            "1         Clothing    40.134840\n",
            "2      Electronics    40.392548\n",
            "3             Home    40.414435\n"
          ]
        }
      ]
    },
    {
      "cell_type": "code",
      "source": [
        "# segmenting based on age, total amount spent, returns\n",
        "\n",
        "df['AgeGroups1'] = pd.cut(df['Age'], bins=[-float('inf'),18,40,70,float('inf')],labels=['>18','18-40','40-70','<70'])\n",
        "\n",
        "df['Spent'] = pd.cut(df['Total_Amount'],bins=[-float('inf'),200,500,800,float('inf')],labels=['>200','200-500','500-800','<800'])\n",
        "\n",
        "df['return_segment'] = df['Returns'].apply(lambda x: \"Returned\" if x==1 else \"Not Returned\")\n",
        "\n",
        "df.head(10)\n"
      ],
      "metadata": {
        "id": "R0ad2spbQtHL",
        "colab": {
          "base_uri": "https://localhost:8080/",
          "height": 776
        },
        "outputId": "01fb588f-8844-4d46-f4f0-1ad1dd25d231"
      },
      "execution_count": 60,
      "outputs": [
        {
          "output_type": "execute_result",
          "data": {
            "text/plain": [
              "   Customer ID        Purchase Date Product Category  Price  Quantity  \\\n",
              "0        46251  2020-09-08 09:38:32      Electronics     12         3   \n",
              "1        46251  2022-03-05 12:56:35             Home    468         4   \n",
              "2        46251  2022-05-23 18:18:01             Home    288         2   \n",
              "3        46251  2020-11-12 13:13:29         Clothing    196         1   \n",
              "4        13593  2020-11-27 17:55:11             Home    449         1   \n",
              "5        13593  2023-03-07 14:17:42             Home    250         4   \n",
              "6        13593  2023-04-15 03:02:33      Electronics     73         1   \n",
              "7        13593  2021-03-27 21:23:28            Books    337         2   \n",
              "8        13593  2020-05-05 20:14:00         Clothing    182         2   \n",
              "9        28805  2023-09-13 04:24:00      Electronics    394         2   \n",
              "\n",
              "   Total_Amount Payment Method  Customer Age  Returns        Customer Name  \\\n",
              "0           740    Credit Card            37      0.0  Christine Hernandez   \n",
              "1          2739         PayPal            37      0.0  Christine Hernandez   \n",
              "2          3196         PayPal            37      0.0  Christine Hernandez   \n",
              "3          3509         PayPal            37      0.0  Christine Hernandez   \n",
              "4          3452    Credit Card            49      0.0          James Grant   \n",
              "5           575         PayPal            49      1.0          James Grant   \n",
              "6          1896    Credit Card            49      0.0          James Grant   \n",
              "7          2937           Cash            49      0.0          James Grant   \n",
              "8          3363         PayPal            49      1.0          James Grant   \n",
              "9          1993    Credit Card            19      0.0         Jose Collier   \n",
              "\n",
              "   ...  Churn AgeGroup  Age_group2 Quantity_distribution AgeGroups1    Spent  \\\n",
              "0  ...      0    18-50       35-60                     3      18-40  500-800   \n",
              "1  ...      0    18-50       35-60                     4      18-40     <800   \n",
              "2  ...      0    18-50       35-60                     2      18-40     <800   \n",
              "3  ...      0    18-50       35-60                     1      18-40     <800   \n",
              "4  ...      1    18-50       35-60                     1      40-70     <800   \n",
              "5  ...      1    18-50       35-60                     4      40-70  500-800   \n",
              "6  ...      1    18-50       35-60                     1      40-70     <800   \n",
              "7  ...      1    18-50       35-60                     2      40-70     <800   \n",
              "8  ...      1    18-50       35-60                     2      40-70     <800   \n",
              "9  ...      0    18-50       18-35                     2      18-40     <800   \n",
              "\n",
              "  return_segment Age_group_3 Payment_Method_Coded Age_group3  \n",
              "0   Not Returned         Old                    1        Old  \n",
              "1   Not Returned         Old                    3        Old  \n",
              "2   Not Returned         Old                    3        Old  \n",
              "3   Not Returned         Old                    3        Old  \n",
              "4   Not Returned         Old                    1        Old  \n",
              "5       Returned         Old                    3        Old  \n",
              "6   Not Returned         Old                    1        Old  \n",
              "7   Not Returned         Old                    0        Old  \n",
              "8       Returned         Old                    3        Old  \n",
              "9   Not Returned       Young                    1      Young  \n",
              "\n",
              "[10 rows x 22 columns]"
            ],
            "text/html": [
              "\n",
              "  <div id=\"df-22bfd290-9d61-48a7-a410-5eef054033e1\" class=\"colab-df-container\">\n",
              "    <div>\n",
              "<style scoped>\n",
              "    .dataframe tbody tr th:only-of-type {\n",
              "        vertical-align: middle;\n",
              "    }\n",
              "\n",
              "    .dataframe tbody tr th {\n",
              "        vertical-align: top;\n",
              "    }\n",
              "\n",
              "    .dataframe thead th {\n",
              "        text-align: right;\n",
              "    }\n",
              "</style>\n",
              "<table border=\"1\" class=\"dataframe\">\n",
              "  <thead>\n",
              "    <tr style=\"text-align: right;\">\n",
              "      <th></th>\n",
              "      <th>Customer ID</th>\n",
              "      <th>Purchase Date</th>\n",
              "      <th>Product Category</th>\n",
              "      <th>Price</th>\n",
              "      <th>Quantity</th>\n",
              "      <th>Total_Amount</th>\n",
              "      <th>Payment Method</th>\n",
              "      <th>Customer Age</th>\n",
              "      <th>Returns</th>\n",
              "      <th>Customer Name</th>\n",
              "      <th>...</th>\n",
              "      <th>Churn</th>\n",
              "      <th>AgeGroup</th>\n",
              "      <th>Age_group2</th>\n",
              "      <th>Quantity_distribution</th>\n",
              "      <th>AgeGroups1</th>\n",
              "      <th>Spent</th>\n",
              "      <th>return_segment</th>\n",
              "      <th>Age_group_3</th>\n",
              "      <th>Payment_Method_Coded</th>\n",
              "      <th>Age_group3</th>\n",
              "    </tr>\n",
              "  </thead>\n",
              "  <tbody>\n",
              "    <tr>\n",
              "      <th>0</th>\n",
              "      <td>46251</td>\n",
              "      <td>2020-09-08 09:38:32</td>\n",
              "      <td>Electronics</td>\n",
              "      <td>12</td>\n",
              "      <td>3</td>\n",
              "      <td>740</td>\n",
              "      <td>Credit Card</td>\n",
              "      <td>37</td>\n",
              "      <td>0.0</td>\n",
              "      <td>Christine Hernandez</td>\n",
              "      <td>...</td>\n",
              "      <td>0</td>\n",
              "      <td>18-50</td>\n",
              "      <td>35-60</td>\n",
              "      <td>3</td>\n",
              "      <td>18-40</td>\n",
              "      <td>500-800</td>\n",
              "      <td>Not Returned</td>\n",
              "      <td>Old</td>\n",
              "      <td>1</td>\n",
              "      <td>Old</td>\n",
              "    </tr>\n",
              "    <tr>\n",
              "      <th>1</th>\n",
              "      <td>46251</td>\n",
              "      <td>2022-03-05 12:56:35</td>\n",
              "      <td>Home</td>\n",
              "      <td>468</td>\n",
              "      <td>4</td>\n",
              "      <td>2739</td>\n",
              "      <td>PayPal</td>\n",
              "      <td>37</td>\n",
              "      <td>0.0</td>\n",
              "      <td>Christine Hernandez</td>\n",
              "      <td>...</td>\n",
              "      <td>0</td>\n",
              "      <td>18-50</td>\n",
              "      <td>35-60</td>\n",
              "      <td>4</td>\n",
              "      <td>18-40</td>\n",
              "      <td>&lt;800</td>\n",
              "      <td>Not Returned</td>\n",
              "      <td>Old</td>\n",
              "      <td>3</td>\n",
              "      <td>Old</td>\n",
              "    </tr>\n",
              "    <tr>\n",
              "      <th>2</th>\n",
              "      <td>46251</td>\n",
              "      <td>2022-05-23 18:18:01</td>\n",
              "      <td>Home</td>\n",
              "      <td>288</td>\n",
              "      <td>2</td>\n",
              "      <td>3196</td>\n",
              "      <td>PayPal</td>\n",
              "      <td>37</td>\n",
              "      <td>0.0</td>\n",
              "      <td>Christine Hernandez</td>\n",
              "      <td>...</td>\n",
              "      <td>0</td>\n",
              "      <td>18-50</td>\n",
              "      <td>35-60</td>\n",
              "      <td>2</td>\n",
              "      <td>18-40</td>\n",
              "      <td>&lt;800</td>\n",
              "      <td>Not Returned</td>\n",
              "      <td>Old</td>\n",
              "      <td>3</td>\n",
              "      <td>Old</td>\n",
              "    </tr>\n",
              "    <tr>\n",
              "      <th>3</th>\n",
              "      <td>46251</td>\n",
              "      <td>2020-11-12 13:13:29</td>\n",
              "      <td>Clothing</td>\n",
              "      <td>196</td>\n",
              "      <td>1</td>\n",
              "      <td>3509</td>\n",
              "      <td>PayPal</td>\n",
              "      <td>37</td>\n",
              "      <td>0.0</td>\n",
              "      <td>Christine Hernandez</td>\n",
              "      <td>...</td>\n",
              "      <td>0</td>\n",
              "      <td>18-50</td>\n",
              "      <td>35-60</td>\n",
              "      <td>1</td>\n",
              "      <td>18-40</td>\n",
              "      <td>&lt;800</td>\n",
              "      <td>Not Returned</td>\n",
              "      <td>Old</td>\n",
              "      <td>3</td>\n",
              "      <td>Old</td>\n",
              "    </tr>\n",
              "    <tr>\n",
              "      <th>4</th>\n",
              "      <td>13593</td>\n",
              "      <td>2020-11-27 17:55:11</td>\n",
              "      <td>Home</td>\n",
              "      <td>449</td>\n",
              "      <td>1</td>\n",
              "      <td>3452</td>\n",
              "      <td>Credit Card</td>\n",
              "      <td>49</td>\n",
              "      <td>0.0</td>\n",
              "      <td>James Grant</td>\n",
              "      <td>...</td>\n",
              "      <td>1</td>\n",
              "      <td>18-50</td>\n",
              "      <td>35-60</td>\n",
              "      <td>1</td>\n",
              "      <td>40-70</td>\n",
              "      <td>&lt;800</td>\n",
              "      <td>Not Returned</td>\n",
              "      <td>Old</td>\n",
              "      <td>1</td>\n",
              "      <td>Old</td>\n",
              "    </tr>\n",
              "    <tr>\n",
              "      <th>5</th>\n",
              "      <td>13593</td>\n",
              "      <td>2023-03-07 14:17:42</td>\n",
              "      <td>Home</td>\n",
              "      <td>250</td>\n",
              "      <td>4</td>\n",
              "      <td>575</td>\n",
              "      <td>PayPal</td>\n",
              "      <td>49</td>\n",
              "      <td>1.0</td>\n",
              "      <td>James Grant</td>\n",
              "      <td>...</td>\n",
              "      <td>1</td>\n",
              "      <td>18-50</td>\n",
              "      <td>35-60</td>\n",
              "      <td>4</td>\n",
              "      <td>40-70</td>\n",
              "      <td>500-800</td>\n",
              "      <td>Returned</td>\n",
              "      <td>Old</td>\n",
              "      <td>3</td>\n",
              "      <td>Old</td>\n",
              "    </tr>\n",
              "    <tr>\n",
              "      <th>6</th>\n",
              "      <td>13593</td>\n",
              "      <td>2023-04-15 03:02:33</td>\n",
              "      <td>Electronics</td>\n",
              "      <td>73</td>\n",
              "      <td>1</td>\n",
              "      <td>1896</td>\n",
              "      <td>Credit Card</td>\n",
              "      <td>49</td>\n",
              "      <td>0.0</td>\n",
              "      <td>James Grant</td>\n",
              "      <td>...</td>\n",
              "      <td>1</td>\n",
              "      <td>18-50</td>\n",
              "      <td>35-60</td>\n",
              "      <td>1</td>\n",
              "      <td>40-70</td>\n",
              "      <td>&lt;800</td>\n",
              "      <td>Not Returned</td>\n",
              "      <td>Old</td>\n",
              "      <td>1</td>\n",
              "      <td>Old</td>\n",
              "    </tr>\n",
              "    <tr>\n",
              "      <th>7</th>\n",
              "      <td>13593</td>\n",
              "      <td>2021-03-27 21:23:28</td>\n",
              "      <td>Books</td>\n",
              "      <td>337</td>\n",
              "      <td>2</td>\n",
              "      <td>2937</td>\n",
              "      <td>Cash</td>\n",
              "      <td>49</td>\n",
              "      <td>0.0</td>\n",
              "      <td>James Grant</td>\n",
              "      <td>...</td>\n",
              "      <td>1</td>\n",
              "      <td>18-50</td>\n",
              "      <td>35-60</td>\n",
              "      <td>2</td>\n",
              "      <td>40-70</td>\n",
              "      <td>&lt;800</td>\n",
              "      <td>Not Returned</td>\n",
              "      <td>Old</td>\n",
              "      <td>0</td>\n",
              "      <td>Old</td>\n",
              "    </tr>\n",
              "    <tr>\n",
              "      <th>8</th>\n",
              "      <td>13593</td>\n",
              "      <td>2020-05-05 20:14:00</td>\n",
              "      <td>Clothing</td>\n",
              "      <td>182</td>\n",
              "      <td>2</td>\n",
              "      <td>3363</td>\n",
              "      <td>PayPal</td>\n",
              "      <td>49</td>\n",
              "      <td>1.0</td>\n",
              "      <td>James Grant</td>\n",
              "      <td>...</td>\n",
              "      <td>1</td>\n",
              "      <td>18-50</td>\n",
              "      <td>35-60</td>\n",
              "      <td>2</td>\n",
              "      <td>40-70</td>\n",
              "      <td>&lt;800</td>\n",
              "      <td>Returned</td>\n",
              "      <td>Old</td>\n",
              "      <td>3</td>\n",
              "      <td>Old</td>\n",
              "    </tr>\n",
              "    <tr>\n",
              "      <th>9</th>\n",
              "      <td>28805</td>\n",
              "      <td>2023-09-13 04:24:00</td>\n",
              "      <td>Electronics</td>\n",
              "      <td>394</td>\n",
              "      <td>2</td>\n",
              "      <td>1993</td>\n",
              "      <td>Credit Card</td>\n",
              "      <td>19</td>\n",
              "      <td>0.0</td>\n",
              "      <td>Jose Collier</td>\n",
              "      <td>...</td>\n",
              "      <td>0</td>\n",
              "      <td>18-50</td>\n",
              "      <td>18-35</td>\n",
              "      <td>2</td>\n",
              "      <td>18-40</td>\n",
              "      <td>&lt;800</td>\n",
              "      <td>Not Returned</td>\n",
              "      <td>Young</td>\n",
              "      <td>1</td>\n",
              "      <td>Young</td>\n",
              "    </tr>\n",
              "  </tbody>\n",
              "</table>\n",
              "<p>10 rows × 22 columns</p>\n",
              "</div>\n",
              "    <div class=\"colab-df-buttons\">\n",
              "\n",
              "  <div class=\"colab-df-container\">\n",
              "    <button class=\"colab-df-convert\" onclick=\"convertToInteractive('df-22bfd290-9d61-48a7-a410-5eef054033e1')\"\n",
              "            title=\"Convert this dataframe to an interactive table.\"\n",
              "            style=\"display:none;\">\n",
              "\n",
              "  <svg xmlns=\"http://www.w3.org/2000/svg\" height=\"24px\" viewBox=\"0 -960 960 960\">\n",
              "    <path d=\"M120-120v-720h720v720H120Zm60-500h600v-160H180v160Zm220 220h160v-160H400v160Zm0 220h160v-160H400v160ZM180-400h160v-160H180v160Zm440 0h160v-160H620v160ZM180-180h160v-160H180v160Zm440 0h160v-160H620v160Z\"/>\n",
              "  </svg>\n",
              "    </button>\n",
              "\n",
              "  <style>\n",
              "    .colab-df-container {\n",
              "      display:flex;\n",
              "      gap: 12px;\n",
              "    }\n",
              "\n",
              "    .colab-df-convert {\n",
              "      background-color: #E8F0FE;\n",
              "      border: none;\n",
              "      border-radius: 50%;\n",
              "      cursor: pointer;\n",
              "      display: none;\n",
              "      fill: #1967D2;\n",
              "      height: 32px;\n",
              "      padding: 0 0 0 0;\n",
              "      width: 32px;\n",
              "    }\n",
              "\n",
              "    .colab-df-convert:hover {\n",
              "      background-color: #E2EBFA;\n",
              "      box-shadow: 0px 1px 2px rgba(60, 64, 67, 0.3), 0px 1px 3px 1px rgba(60, 64, 67, 0.15);\n",
              "      fill: #174EA6;\n",
              "    }\n",
              "\n",
              "    .colab-df-buttons div {\n",
              "      margin-bottom: 4px;\n",
              "    }\n",
              "\n",
              "    [theme=dark] .colab-df-convert {\n",
              "      background-color: #3B4455;\n",
              "      fill: #D2E3FC;\n",
              "    }\n",
              "\n",
              "    [theme=dark] .colab-df-convert:hover {\n",
              "      background-color: #434B5C;\n",
              "      box-shadow: 0px 1px 3px 1px rgba(0, 0, 0, 0.15);\n",
              "      filter: drop-shadow(0px 1px 2px rgba(0, 0, 0, 0.3));\n",
              "      fill: #FFFFFF;\n",
              "    }\n",
              "  </style>\n",
              "\n",
              "    <script>\n",
              "      const buttonEl =\n",
              "        document.querySelector('#df-22bfd290-9d61-48a7-a410-5eef054033e1 button.colab-df-convert');\n",
              "      buttonEl.style.display =\n",
              "        google.colab.kernel.accessAllowed ? 'block' : 'none';\n",
              "\n",
              "      async function convertToInteractive(key) {\n",
              "        const element = document.querySelector('#df-22bfd290-9d61-48a7-a410-5eef054033e1');\n",
              "        const dataTable =\n",
              "          await google.colab.kernel.invokeFunction('convertToInteractive',\n",
              "                                                    [key], {});\n",
              "        if (!dataTable) return;\n",
              "\n",
              "        const docLinkHtml = 'Like what you see? Visit the ' +\n",
              "          '<a target=\"_blank\" href=https://colab.research.google.com/notebooks/data_table.ipynb>data table notebook</a>'\n",
              "          + ' to learn more about interactive tables.';\n",
              "        element.innerHTML = '';\n",
              "        dataTable['output_type'] = 'display_data';\n",
              "        await google.colab.output.renderOutput(dataTable, element);\n",
              "        const docLink = document.createElement('div');\n",
              "        docLink.innerHTML = docLinkHtml;\n",
              "        element.appendChild(docLink);\n",
              "      }\n",
              "    </script>\n",
              "  </div>\n",
              "\n",
              "\n",
              "    <div id=\"df-279a62e0-d619-403c-84fa-c5f6a7ad9a56\">\n",
              "      <button class=\"colab-df-quickchart\" onclick=\"quickchart('df-279a62e0-d619-403c-84fa-c5f6a7ad9a56')\"\n",
              "                title=\"Suggest charts\"\n",
              "                style=\"display:none;\">\n",
              "\n",
              "<svg xmlns=\"http://www.w3.org/2000/svg\" height=\"24px\"viewBox=\"0 0 24 24\"\n",
              "     width=\"24px\">\n",
              "    <g>\n",
              "        <path d=\"M19 3H5c-1.1 0-2 .9-2 2v14c0 1.1.9 2 2 2h14c1.1 0 2-.9 2-2V5c0-1.1-.9-2-2-2zM9 17H7v-7h2v7zm4 0h-2V7h2v10zm4 0h-2v-4h2v4z\"/>\n",
              "    </g>\n",
              "</svg>\n",
              "      </button>\n",
              "\n",
              "<style>\n",
              "  .colab-df-quickchart {\n",
              "      --bg-color: #E8F0FE;\n",
              "      --fill-color: #1967D2;\n",
              "      --hover-bg-color: #E2EBFA;\n",
              "      --hover-fill-color: #174EA6;\n",
              "      --disabled-fill-color: #AAA;\n",
              "      --disabled-bg-color: #DDD;\n",
              "  }\n",
              "\n",
              "  [theme=dark] .colab-df-quickchart {\n",
              "      --bg-color: #3B4455;\n",
              "      --fill-color: #D2E3FC;\n",
              "      --hover-bg-color: #434B5C;\n",
              "      --hover-fill-color: #FFFFFF;\n",
              "      --disabled-bg-color: #3B4455;\n",
              "      --disabled-fill-color: #666;\n",
              "  }\n",
              "\n",
              "  .colab-df-quickchart {\n",
              "    background-color: var(--bg-color);\n",
              "    border: none;\n",
              "    border-radius: 50%;\n",
              "    cursor: pointer;\n",
              "    display: none;\n",
              "    fill: var(--fill-color);\n",
              "    height: 32px;\n",
              "    padding: 0;\n",
              "    width: 32px;\n",
              "  }\n",
              "\n",
              "  .colab-df-quickchart:hover {\n",
              "    background-color: var(--hover-bg-color);\n",
              "    box-shadow: 0 1px 2px rgba(60, 64, 67, 0.3), 0 1px 3px 1px rgba(60, 64, 67, 0.15);\n",
              "    fill: var(--button-hover-fill-color);\n",
              "  }\n",
              "\n",
              "  .colab-df-quickchart-complete:disabled,\n",
              "  .colab-df-quickchart-complete:disabled:hover {\n",
              "    background-color: var(--disabled-bg-color);\n",
              "    fill: var(--disabled-fill-color);\n",
              "    box-shadow: none;\n",
              "  }\n",
              "\n",
              "  .colab-df-spinner {\n",
              "    border: 2px solid var(--fill-color);\n",
              "    border-color: transparent;\n",
              "    border-bottom-color: var(--fill-color);\n",
              "    animation:\n",
              "      spin 1s steps(1) infinite;\n",
              "  }\n",
              "\n",
              "  @keyframes spin {\n",
              "    0% {\n",
              "      border-color: transparent;\n",
              "      border-bottom-color: var(--fill-color);\n",
              "      border-left-color: var(--fill-color);\n",
              "    }\n",
              "    20% {\n",
              "      border-color: transparent;\n",
              "      border-left-color: var(--fill-color);\n",
              "      border-top-color: var(--fill-color);\n",
              "    }\n",
              "    30% {\n",
              "      border-color: transparent;\n",
              "      border-left-color: var(--fill-color);\n",
              "      border-top-color: var(--fill-color);\n",
              "      border-right-color: var(--fill-color);\n",
              "    }\n",
              "    40% {\n",
              "      border-color: transparent;\n",
              "      border-right-color: var(--fill-color);\n",
              "      border-top-color: var(--fill-color);\n",
              "    }\n",
              "    60% {\n",
              "      border-color: transparent;\n",
              "      border-right-color: var(--fill-color);\n",
              "    }\n",
              "    80% {\n",
              "      border-color: transparent;\n",
              "      border-right-color: var(--fill-color);\n",
              "      border-bottom-color: var(--fill-color);\n",
              "    }\n",
              "    90% {\n",
              "      border-color: transparent;\n",
              "      border-bottom-color: var(--fill-color);\n",
              "    }\n",
              "  }\n",
              "</style>\n",
              "\n",
              "      <script>\n",
              "        async function quickchart(key) {\n",
              "          const quickchartButtonEl =\n",
              "            document.querySelector('#' + key + ' button');\n",
              "          quickchartButtonEl.disabled = true;  // To prevent multiple clicks.\n",
              "          quickchartButtonEl.classList.add('colab-df-spinner');\n",
              "          try {\n",
              "            const charts = await google.colab.kernel.invokeFunction(\n",
              "                'suggestCharts', [key], {});\n",
              "          } catch (error) {\n",
              "            console.error('Error during call to suggestCharts:', error);\n",
              "          }\n",
              "          quickchartButtonEl.classList.remove('colab-df-spinner');\n",
              "          quickchartButtonEl.classList.add('colab-df-quickchart-complete');\n",
              "        }\n",
              "        (() => {\n",
              "          let quickchartButtonEl =\n",
              "            document.querySelector('#df-279a62e0-d619-403c-84fa-c5f6a7ad9a56 button');\n",
              "          quickchartButtonEl.style.display =\n",
              "            google.colab.kernel.accessAllowed ? 'block' : 'none';\n",
              "        })();\n",
              "      </script>\n",
              "    </div>\n",
              "\n",
              "    </div>\n",
              "  </div>\n"
            ],
            "application/vnd.google.colaboratory.intrinsic+json": {
              "type": "dataframe",
              "variable_name": "df"
            }
          },
          "metadata": {},
          "execution_count": 60
        }
      ]
    },
    {
      "cell_type": "code",
      "source": [
        "# Total amount spent by churned customers vs retained\n",
        "Stats = df.groupby('Churn')['Total_Amount'].mean()\n",
        "print(Stats.to_frame('Amount').reset_index())\n",
        "\n",
        "# young or old customers likely to churn\n",
        "df['Age_group3'] = pd.cut(df['Age'],bins=[-float('inf'),35,float('inf')],labels=['Young','Old'])\n",
        "\n",
        "churn_st = df.groupby('Age_group3',observed=False)['Churn'].mean() * 100\n",
        "churn_st=churn_st.round(2)\n",
        "print(churn_st.to_frame('Churn Percentage').reset_index())"
      ],
      "metadata": {
        "colab": {
          "base_uri": "https://localhost:8080/"
        },
        "id": "PPpCkqI2VNCZ",
        "outputId": "c6e91713-d3ef-47a3-e87e-09290fc2afdf"
      },
      "execution_count": 52,
      "outputs": [
        {
          "output_type": "stream",
          "name": "stdout",
          "text": [
            "   Churn       Amount\n",
            "0      0  2724.815996\n",
            "1      1  2727.596684\n",
            "  Age_group3  Churn Percentage\n",
            "0      Young             20.18\n",
            "1        Old             19.83\n"
          ]
        }
      ]
    },
    {
      "cell_type": "code",
      "source": [
        "# most prefered payment\n",
        "most_prefered = df['Payment Method'].value_counts()\n",
        "print(\"Most prefered payment method is: \",most_prefered.idxmax())\n",
        "\n"
      ],
      "metadata": {
        "colab": {
          "base_uri": "https://localhost:8080/"
        },
        "id": "GAPr3oWIw-0n",
        "outputId": "af6b7595-c108-4fdd-89d3-1830f7880858"
      },
      "execution_count": 21,
      "outputs": [
        {
          "output_type": "stream",
          "name": "stdout",
          "text": [
            "Most prefered payment method is:  Credit Card\n"
          ]
        }
      ]
    },
    {
      "cell_type": "code",
      "source": [
        "# corelation between payment method and return rates\n",
        "df['Payment_Method_Coded'] = df['Payment Method'].astype('category').cat.codes\n",
        "\n",
        "cor = df['Payment_Method_Coded'].corr(df['Returns'])\n",
        "cor=cor.round(4)\n",
        "print(cor)\n",
        "if cor<1:\n",
        "  print(\"There is no relation between payment method and returns\")\n"
      ],
      "metadata": {
        "colab": {
          "base_uri": "https://localhost:8080/"
        },
        "id": "VC45uzJLx8NP",
        "outputId": "afce87c2-a6fc-421d-c757-567a05002093"
      },
      "execution_count": 54,
      "outputs": [
        {
          "output_type": "stream",
          "name": "stdout",
          "text": [
            "-0.0021\n",
            "There is no relation between payment method and returns\n"
          ]
        }
      ]
    },
    {
      "cell_type": "code",
      "source": [
        "# payment method used by churned customers\n",
        "churned_cust = df[df['Churn']==1]\n",
        "x = churned_cust['Payment Method'].value_counts()\n",
        "print(f\"Payment method most used by churned customers is {x.idxmax()}\")"
      ],
      "metadata": {
        "colab": {
          "base_uri": "https://localhost:8080/"
        },
        "id": "RmLlSk_U_lbQ",
        "outputId": "b2ec43a2-f421-40cb-dbc2-7f0a2abf55e2"
      },
      "execution_count": 25,
      "outputs": [
        {
          "output_type": "stream",
          "name": "stdout",
          "text": [
            "Payment method most used by churned customers is Credit Card\n"
          ]
        }
      ]
    },
    {
      "cell_type": "markdown",
      "source": [
        "# New Section"
      ],
      "metadata": {
        "id": "Hpek-rUdx0Oe"
      }
    }
  ]
}